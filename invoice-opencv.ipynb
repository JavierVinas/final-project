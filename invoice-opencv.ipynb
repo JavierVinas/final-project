{
 "cells": [
  {
   "cell_type": "code",
   "execution_count": 1,
   "metadata": {},
   "outputs": [],
   "source": [
    "import numpy as np\n",
    "import cv2\n",
    "import math\n",
    "from scipy import ndimage\n",
    "import pytesseract"
   ]
  },
  {
   "cell_type": "code",
   "execution_count": 2,
   "metadata": {},
   "outputs": [],
   "source": [
    "# Reading the image with opencv\n",
    "FILEPATH = '/Users/javiervinas/Documents/Bootcamp_Data/final_project_ironhack/facturas/factura_mayo_image.jpg'\n",
    "input_img = cv2.imread(FILEPATH)"
   ]
  },
  {
   "cell_type": "code",
   "execution_count": 3,
   "metadata": {},
   "outputs": [],
   "source": [
    "# REGION OF INTEREST (ROI) SELECTION\n",
    "\n",
    "# initializing the list for storing the coordinates \n",
    "coordinates = [] \n",
    "  \n",
    "# Defining the event listener (callback function)\n",
    "def shape_selection(event, x, y, flags, param): \n",
    "    # making coordinates global\n",
    "    global coordinates \n",
    "  \n",
    "    # Storing the (x1,y1) coordinates when left mouse button is pressed  \n",
    "    if event == cv2.EVENT_LBUTTONDOWN: \n",
    "        coordinates = [(x, y)] \n",
    "  \n",
    "    # Storing the (x2,y2) coordinates when the left mouse button is released and make a rectangle on the selected region\n",
    "    elif event == cv2.EVENT_LBUTTONUP: \n",
    "        coordinates.append((x, y)) \n",
    "  \n",
    "        # Drawing a rectangle around the region of interest (roi)\n",
    "        cv2.rectangle(image, coordinates[0], coordinates[1], (0,0,255), 2) \n",
    "        cv2.imshow(\"image\", image) "
   ]
  },
  {
   "cell_type": "code",
   "execution_count": 4,
   "metadata": {},
   "outputs": [
    {
     "ename": "KeyboardInterrupt",
     "evalue": "",
     "output_type": "error",
     "traceback": [
      "\u001b[0;31m---------------------------------------------------------------------------\u001b[0m",
      "\u001b[0;31mKeyboardInterrupt\u001b[0m                         Traceback (most recent call last)",
      "\u001b[0;32m<ipython-input-4-75700a17a846>\u001b[0m in \u001b[0;36m<module>\u001b[0;34m\u001b[0m\n\u001b[1;32m      9\u001b[0m \u001b[0;32mwhile\u001b[0m \u001b[0;32mTrue\u001b[0m\u001b[0;34m:\u001b[0m\u001b[0;34m\u001b[0m\u001b[0;34m\u001b[0m\u001b[0m\n\u001b[1;32m     10\u001b[0m     \u001b[0;31m# display the image and wait for a keypress\u001b[0m\u001b[0;34m\u001b[0m\u001b[0;34m\u001b[0m\u001b[0;34m\u001b[0m\u001b[0m\n\u001b[0;32m---> 11\u001b[0;31m     \u001b[0mcv2\u001b[0m\u001b[0;34m.\u001b[0m\u001b[0mimshow\u001b[0m\u001b[0;34m(\u001b[0m\u001b[0;34m\"image\"\u001b[0m\u001b[0;34m,\u001b[0m \u001b[0mimage\u001b[0m\u001b[0;34m)\u001b[0m\u001b[0;34m\u001b[0m\u001b[0;34m\u001b[0m\u001b[0m\n\u001b[0m\u001b[1;32m     12\u001b[0m     \u001b[0mkey\u001b[0m \u001b[0;34m=\u001b[0m \u001b[0mcv2\u001b[0m\u001b[0;34m.\u001b[0m\u001b[0mwaitKey\u001b[0m\u001b[0;34m(\u001b[0m\u001b[0;36m1\u001b[0m\u001b[0;34m)\u001b[0m \u001b[0;34m&\u001b[0m \u001b[0;36m0xFF\u001b[0m\u001b[0;34m\u001b[0m\u001b[0;34m\u001b[0m\u001b[0m\n\u001b[1;32m     13\u001b[0m \u001b[0;34m\u001b[0m\u001b[0m\n",
      "\u001b[0;31mKeyboardInterrupt\u001b[0m: "
     ]
    }
   ],
   "source": [
    "# load the image, clone it, and setup the mouse callback function \n",
    "image = input_img\n",
    "image_copy = image.copy()\n",
    "cv2.namedWindow(\"image\") \n",
    "cv2.setMouseCallback(\"image\", shape_selection)  \n",
    "  \n",
    "  \n",
    "# keep looping until the 'q' key is pressed \n",
    "while True: \n",
    "    # display the image and wait for a keypress \n",
    "    cv2.imshow(\"image\", image) \n",
    "    key = cv2.waitKey(1) & 0xFF\n",
    "  \n",
    "    if key==13: # If 'enter' is pressed, apply OCR\n",
    "        break\n",
    "    \n",
    "    if key == ord(\"c\"): # Clear the selection when 'c' is pressed \n",
    "        image = image_copy.copy() \n",
    "  \n",
    "if len(coordinates) == 2: \n",
    "    image_roi = image_copy[coordinates[0][1]:coordinates[1][1], \n",
    "                               coordinates[0][0]:coordinates[1][0]] \n",
    "    cv2.imshow(\"Selected Region of Interest - Press any key to proceed\", image_roi) \n",
    "    cv2.waitKey(0) \n",
    "  \n",
    "# closing all open windows \n",
    "cv2.destroyAllWindows()"
   ]
  },
  {
   "cell_type": "code",
   "execution_count": null,
   "metadata": {},
   "outputs": [],
   "source": [
    "# Now applying OCR on ROI\n",
    "\n",
    "text = pytesseract.image_to_string(image_roi)\n",
    "print(\"The text in the selected region is as follows:\")\n",
    "print(text)"
   ]
  }
 ],
 "metadata": {
  "kernelspec": {
   "display_name": "Python [conda env:ironhack_env] *",
   "language": "python",
   "name": "conda-env-ironhack_env-py"
  },
  "language_info": {
   "codemirror_mode": {
    "name": "ipython",
    "version": 3
   },
   "file_extension": ".py",
   "mimetype": "text/x-python",
   "name": "python",
   "nbconvert_exporter": "python",
   "pygments_lexer": "ipython3",
   "version": "3.7.6"
  }
 },
 "nbformat": 4,
 "nbformat_minor": 4
}
