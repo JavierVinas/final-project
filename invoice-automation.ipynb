{
 "cells": [
  {
   "cell_type": "markdown",
   "metadata": {},
   "source": [
    "## Automatizar extracción info PDF desde archivo"
   ]
  },
  {
   "cell_type": "markdown",
   "metadata": {},
   "source": [
    "### Installing the required libraries"
   ]
  },
  {
   "cell_type": "code",
   "execution_count": 1,
   "metadata": {},
   "outputs": [
    {
     "name": "stdout",
     "output_type": "stream",
     "text": [
      "Requirement already satisfied: pdfplumber in /Users/javiervinas/miniconda3/envs/ironhack_env/lib/python3.7/site-packages (0.5.23)\n",
      "Requirement already satisfied: Wand in /Users/javiervinas/miniconda3/envs/ironhack_env/lib/python3.7/site-packages (from pdfplumber) (0.6.3)\n",
      "Requirement already satisfied: pdfminer.six==20200517 in /Users/javiervinas/miniconda3/envs/ironhack_env/lib/python3.7/site-packages (from pdfplumber) (20200517)\n",
      "Requirement already satisfied: Pillow>=7.0.0 in /Users/javiervinas/miniconda3/envs/ironhack_env/lib/python3.7/site-packages (from pdfplumber) (7.2.0)\n",
      "Requirement already satisfied: sortedcontainers in /Users/javiervinas/miniconda3/envs/ironhack_env/lib/python3.7/site-packages (from pdfminer.six==20200517->pdfplumber) (2.2.2)\n",
      "Requirement already satisfied: pycryptodome in /Users/javiervinas/miniconda3/envs/ironhack_env/lib/python3.7/site-packages (from pdfminer.six==20200517->pdfplumber) (3.9.8)\n",
      "Requirement already satisfied: chardet; python_version > \"3.0\" in /Users/javiervinas/miniconda3/envs/ironhack_env/lib/python3.7/site-packages (from pdfminer.six==20200517->pdfplumber) (3.0.4)\n",
      "Note: you may need to restart the kernel to use updated packages.\n"
     ]
    }
   ],
   "source": [
    "pip install pdfplumber"
   ]
  },
  {
   "cell_type": "code",
   "execution_count": 1,
   "metadata": {},
   "outputs": [],
   "source": [
    "import os\n",
    "import requests\n",
    "import pdfplumber\n",
    "import pandas as pd"
   ]
  },
  {
   "cell_type": "markdown",
   "metadata": {},
   "source": [
    "### Opening de file and extracting info in text"
   ]
  },
  {
   "cell_type": "markdown",
   "metadata": {},
   "source": [
    "We are using the pdfplumber library that is running OCR pytesseract in the background to parse all the info into text"
   ]
  },
  {
   "cell_type": "code",
   "execution_count": 2,
   "metadata": {},
   "outputs": [],
   "source": [
    "FILEPATH = '/Users/javiervinas/Documents/Bootcamp_Data/final_project_ironhack/facturas/factura_mayo.pdf'\n",
    "\n",
    "with pdfplumber.open(FILEPATH) as pdf:\n",
    "    first_page = pdf.pages[0]\n",
    "    text = first_page.extract_text()"
   ]
  },
  {
   "cell_type": "code",
   "execution_count": 3,
   "metadata": {},
   "outputs": [
    {
     "name": "stdout",
     "output_type": "stream",
     "text": [
      "Razón Social: Ana María García Martínez\n",
      "NIF / CIF: 00654715C\n",
      "CUPS: ES0022000006297223FV\n",
      "Dir. Suministro: EMBAJADORES 152, 2º, 6, 28045 MADRID (MADRID)\n",
      "Contrato Acceso: 001000088135 Tarifa: 2.0DHA\n",
      "Empresa Distribuidora: UFD DISTRIBUCION ELECTRICIDAD, S.A.\n",
      "Datos Factura Ana María García Martínez\n",
      "Fecha de Factura: 25/05/2020 GAZTAMBIDE 70, 3º, C\n",
      "Periodo Facturación: 20/04/2020 - 20/05/2020 (30 días)\n",
      "28003 MADRID (MADRID)\n",
      "Factura Nº: 2020052506693\n",
      "Nº de Contrato: CO-2018-076542_4.3\n",
      "Fecha fin del contrato de suministro: 08/11/2020  (renovación anual automática)\n",
      "Importe Total\n",
      "Término de energía variable\n",
      "Precio Peaje Precio Coste Energía Precio Total Consumo Total\n",
      "P1:  0,062012€/kWh     +           0   , 0  8  7   2 00 €/kWh=         0   , 1  4  9  2   1  2   € /kWh          x                   42,00kWh =                   6   , 2  7    €  8,76 €\n",
      "P2:  0,002215€/kWh     +           0   , 0  7  5   7 02 €/kWh=         0   , 0  7  7  9   1  7   € /kWh          x                   32,00kWh =                   2   , 4  9    €\n",
      "Término de potencia\n",
      "Contratada Maxímetro Precio Peaje Precio Potencia Precio Total A Facturar Total\n",
      "Fenie Energía\n",
      "P1:  3,450kW  0,103944€/kW día         +              0    €/kW día=         0   , 1  0  3  9   4  4   € /kW día      x             3  , 4  5   0kWx  30días     =                                   1    0    , 7  6    €  10,76 €\n",
      "Energía reactiva\n",
      "Consumo Cos phi Precio Exceso Total\n",
      "P1:  0,00kVArh  1,00  0,000000€/kVArh x  0,00kVArh=                   0   , 0  0    €  0,00 €\n",
      "Impuesto electricidad 5,11269632% s/ 19,52 €  1,00 €\n",
      "Alquiler Equipo medida (Nº Contador 155242755):  0,80 €\n",
      "IVA 21,00% s/ 21,32 4,48 €\n",
      "TOTAL FACTURA:  25,80€\n",
      "Le informamos que la CNMC ha publicado, a través de la Circular 3/2020 del 25 de enero, que se van a modificar las tarifas eléctricas en los próximos meses. Durante este periodo transitorio y \n",
      "hasta que se publiquen los nuevos peajes, seguirán vigentes las tarifas actuales. Le iremos informando de cualquier novedad al respecto.\n",
      "Datos de Pago Atención al Cliente y Reclamaciones\n",
      "El  importe  de  la  presente  factura  le  será  adeudado  a  En horario comercial de su Agente Energético:\n",
      "partir del 04/06/2020 en: RAUL SAIZ RUIZ\n",
      "607786196\n",
      "Y las 24 horas en el 900 215 470 o clientes@fenieenergia.es\n",
      "Banco  0182 - 9465 - 63 - 0205XXXXXX\n",
      "Telf. Averías de la Distribuidora:   900 333 999\n",
      "Para  reclamaciones  sobre  el  contrato  de  suministro  o  facturaciones  podrá  dirigirse,  en  caso  de  tratarse  de  una \n",
      "persona  física,  al  Consejería  de  Dirección  General  de  Consumo  (órgano  competente  en  materia  de  consumo)  de  la \n",
      "Comunidad Autónoma de Madrid en el teléfono 010 o a través de su página web www.madrid.es\n",
      "Factura emitida en Madrid por Fenie Energía S.A., inscrita en el Registro Mercantil de Madrid Tomo 27.814, Folio 44, Hoja M-501244, CIF A-85908036\n",
      "Domicilio social: C/Jacinto Benavente, 2B Planta Baja (Edificio Tripark) 28232 Las Rozas (Madrid)\n",
      "Le informamos que sus datos son tratados por FENIE ENERGIA, S. A solo para gestiones contables, fiscales y administrativas y se encuentran almacenados en el fichero \"CLIENTES\" debidamente protegido e inscrito en el Registro de la AGPD. Dichos \n",
      "datos solo serán cedidos a entidades o Administraciones Públicas competentes, siempre que otras normativas así lo establezcan. Usted podrá ejercitar sus derechos ARCO enviándonos carta debidamente firmada junto con fotocopia de su DNI/NIF.\n"
     ]
    }
   ],
   "source": [
    "print(text)"
   ]
  },
  {
   "cell_type": "markdown",
   "metadata": {},
   "source": [
    "### Los campos que nos interesaría volcar a nuestra base de datos serían:"
   ]
  },
  {
   "cell_type": "markdown",
   "metadata": {},
   "source": [
    "- Nombre del cliente\n",
    "- NIF / CIF\n",
    "- CUPS\n",
    "- Dirección suministro\n",
    "- Contrato acceso\n",
    "- Tarifa\n",
    "- Empresa distribuidora\n",
    "- Fecha factura\n",
    "- Periodo facturación\n",
    "- Nº factura\n",
    "- Nº contrato\n",
    "- Importe variable\n",
    "- Término potencia\n",
    "- Energía reactiva\n",
    "- Impuesto electricidad\n",
    "- Alquiler equipo contador\n",
    "- Importe total sin iva\n",
    "- IVA\n",
    "- Total factura"
   ]
  },
  {
   "cell_type": "code",
   "execution_count": 7,
   "metadata": {},
   "outputs": [],
   "source": [
    "# Nombre del cliente"
   ]
  },
  {
   "cell_type": "code",
   "execution_count": 4,
   "metadata": {},
   "outputs": [],
   "source": [
    "for row in text.split('\\n'):\n",
    "    if row.startswith('Razón Social:'):\n",
    "        client_name = row.split()[2:]\n",
    "        nombre_del_cliente = \" \".join(client_name)"
   ]
  },
  {
   "cell_type": "code",
   "execution_count": 5,
   "metadata": {},
   "outputs": [
    {
     "data": {
      "text/plain": [
       "'Ana María García Martínez'"
      ]
     },
     "execution_count": 5,
     "metadata": {},
     "output_type": "execute_result"
    }
   ],
   "source": [
    "nombre_del_cliente"
   ]
  },
  {
   "cell_type": "code",
   "execution_count": 6,
   "metadata": {},
   "outputs": [
    {
     "name": "stdout",
     "output_type": "stream",
     "text": [
      "{'Nombre del cliente': 'Ana María García Martínez'}\n"
     ]
    }
   ],
   "source": [
    "table_info = {'Nombre del cliente': nombre_del_cliente}\n",
    "print(table_info)"
   ]
  },
  {
   "cell_type": "code",
   "execution_count": 7,
   "metadata": {},
   "outputs": [],
   "source": [
    "# NIF / CIF"
   ]
  },
  {
   "cell_type": "code",
   "execution_count": 8,
   "metadata": {},
   "outputs": [],
   "source": [
    "for row in text.split('\\n'):\n",
    "    if row.startswith('NIF / CIF:'):\n",
    "        nif_cif = row.split()[-1]"
   ]
  },
  {
   "cell_type": "code",
   "execution_count": 9,
   "metadata": {},
   "outputs": [
    {
     "data": {
      "text/plain": [
       "'00654715C'"
      ]
     },
     "execution_count": 9,
     "metadata": {},
     "output_type": "execute_result"
    }
   ],
   "source": [
    "nif_cif"
   ]
  },
  {
   "cell_type": "code",
   "execution_count": 10,
   "metadata": {},
   "outputs": [],
   "source": [
    "table_info['NIF / CIF'] = nif_cif"
   ]
  },
  {
   "cell_type": "code",
   "execution_count": 11,
   "metadata": {},
   "outputs": [
    {
     "data": {
      "text/plain": [
       "{'Nombre del cliente': 'Ana María García Martínez', 'NIF / CIF': '00654715C'}"
      ]
     },
     "execution_count": 11,
     "metadata": {},
     "output_type": "execute_result"
    }
   ],
   "source": [
    "table_info"
   ]
  },
  {
   "cell_type": "code",
   "execution_count": 12,
   "metadata": {},
   "outputs": [],
   "source": [
    "for row in text.split('\\n'):\n",
    "    if row.startswith('TOTAL FACTURA'):\n",
    "        total_factura = row.split()[-1]"
   ]
  },
  {
   "cell_type": "code",
   "execution_count": 13,
   "metadata": {},
   "outputs": [],
   "source": [
    "table_info['Total factura'] = total_factura"
   ]
  },
  {
   "cell_type": "code",
   "execution_count": 14,
   "metadata": {},
   "outputs": [
    {
     "data": {
      "text/plain": [
       "{'Nombre del cliente': 'Ana María García Martínez',\n",
       " 'NIF / CIF': '00654715C',\n",
       " 'Total factura': '25,80€'}"
      ]
     },
     "execution_count": 14,
     "metadata": {},
     "output_type": "execute_result"
    }
   ],
   "source": [
    "table_info"
   ]
  },
  {
   "cell_type": "markdown",
   "metadata": {},
   "source": [
    "### Converting all the fields into a pandas dataframe"
   ]
  },
  {
   "cell_type": "code",
   "execution_count": 15,
   "metadata": {},
   "outputs": [
    {
     "name": "stdout",
     "output_type": "stream",
     "text": [
      "                                            1\n",
      "Nombre del cliente  Ana María García Martínez\n",
      "NIF / CIF                           00654715C\n",
      "Total factura                          25,80€\n"
     ]
    }
   ],
   "source": [
    "table_info\n",
    "\n",
    "df = pd.DataFrame(table_info, index=[1]).T\n",
    "\n",
    "print(df)"
   ]
  },
  {
   "cell_type": "code",
   "execution_count": null,
   "metadata": {},
   "outputs": [],
   "source": []
  }
 ],
 "metadata": {
  "kernelspec": {
   "display_name": "Python [conda env:ironhack_env] *",
   "language": "python",
   "name": "conda-env-ironhack_env-py"
  },
  "language_info": {
   "codemirror_mode": {
    "name": "ipython",
    "version": 3
   },
   "file_extension": ".py",
   "mimetype": "text/x-python",
   "name": "python",
   "nbconvert_exporter": "python",
   "pygments_lexer": "ipython3",
   "version": "3.7.6"
  }
 },
 "nbformat": 4,
 "nbformat_minor": 4
}
