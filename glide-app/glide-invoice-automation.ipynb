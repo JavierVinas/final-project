{
 "cells": [
  {
   "cell_type": "markdown",
   "metadata": {},
   "source": [
    "## Automatizar extracción info PDF desde Glide app"
   ]
  },
  {
   "cell_type": "markdown",
   "metadata": {},
   "source": [
    "### Installing the required libraries"
   ]
  },
  {
   "cell_type": "code",
   "execution_count": 1,
   "metadata": {},
   "outputs": [],
   "source": [
    "import os\n",
    "import requests\n",
    "import pdfplumber\n",
    "import pandas as pd\n",
    "import re\n",
    "import datetime\n",
    "import io\n",
    "import gspread\n",
    "from oauth2client.service_account import ServiceAccountCredentials"
   ]
  },
  {
   "cell_type": "markdown",
   "metadata": {},
   "source": [
    "### Connecting to Google Sheets with OAuth"
   ]
  },
  {
   "cell_type": "code",
   "execution_count": 7,
   "metadata": {},
   "outputs": [],
   "source": [
    "scope = [\"https://spreadsheets.google.com/feeds\",\"https://www.googleapis.com/auth/spreadsheets\",\"https://www.googleapis.com/auth/drive.file\",\"https://www.googleapis.com/auth/drive\"]\n",
    "credentials = ServiceAccountCredentials.from_json_keyfile_name(\"glide-automation-353df74de187.json\",scope)\n",
    "client = gspread.authorize(credentials)\n",
    "sheet = client.open(\"DocuHub\")"
   ]
  },
  {
   "cell_type": "markdown",
   "metadata": {},
   "source": [
    "### Getting the value from the selected cell and worksheet"
   ]
  },
  {
   "cell_type": "code",
   "execution_count": 11,
   "metadata": {},
   "outputs": [
    {
     "name": "stdout",
     "output_type": "stream",
     "text": [
      "https://storage.googleapis.com/glide-prod.appspot.com/uploads-v2/IEX87OO7Al4y6ZKmmJkG/pub/8uWiKKwBbsLiT1MHVgKk.pdf\n"
     ]
    }
   ],
   "source": [
    "worksheet = sheet.worksheet(\"Upload_Facturas\")\n",
    "cell_value = worksheet.acell('B2').value\n",
    "print(cell_value)"
   ]
  },
  {
   "cell_type": "code",
   "execution_count": null,
   "metadata": {},
   "outputs": [],
   "source": []
  },
  {
   "cell_type": "code",
   "execution_count": null,
   "metadata": {},
   "outputs": [],
   "source": []
  },
  {
   "cell_type": "markdown",
   "metadata": {},
   "source": [
    "### Reading a pdf file without downloading in local "
   ]
  },
  {
   "cell_type": "code",
   "execution_count": 57,
   "metadata": {},
   "outputs": [],
   "source": [
    "url = 'https://storage.googleapis.com/glide-prod.appspot.com/uploads-v2/IEX87OO7Al4y6ZKmmJkG/pub/8uWiKKwBbsLiT1MHVgKk.pdf'\n",
    "response = requests.get(url)"
   ]
  },
  {
   "cell_type": "code",
   "execution_count": 58,
   "metadata": {},
   "outputs": [],
   "source": [
    "with io.BytesIO(response.content) as open_pdf_file:\n",
    "    read_pdf = pdfplumber.open(open_pdf_file)\n",
    "    first_page = pdf.pages[0]\n",
    "    text = first_page.extract_text()"
   ]
  },
  {
   "cell_type": "code",
   "execution_count": 59,
   "metadata": {},
   "outputs": [
    {
     "name": "stdout",
     "output_type": "stream",
     "text": [
      "Razón Social: Ana María García Martínez\n",
      "NIF / CIF: 00654715C\n",
      "CUPS: ES0022000006297223FV\n",
      "Dir. Suministro: EMBAJADORES 152, 2º, 6, 28045 MADRID (MADRID)\n",
      "Contrato Acceso: 001000088135 Tarifa: 2.0DHA\n",
      "Empresa Distribuidora: UFD DISTRIBUCION ELECTRICIDAD, S.A.\n",
      "Datos Factura Ana María García Martínez\n",
      "Fecha de Factura: 25/05/2020 GAZTAMBIDE 70, 3º, C\n",
      "Periodo Facturación: 20/04/2020 - 20/05/2020 (30 días)\n",
      "28003 MADRID (MADRID)\n",
      "Factura Nº: 2020052506693\n",
      "Nº de Contrato: CO-2018-076542_4.3\n",
      "Fecha fin del contrato de suministro: 08/11/2020  (renovación anual automática)\n",
      "Importe Total\n",
      "Término de energía variable\n",
      "Precio Peaje Precio Coste Energía Precio Total Consumo Total\n",
      "P1:  0,062012€/kWh     +           0   , 0  8  7   2 00 €/kWh=         0   , 1  4  9  2   1  2   € /kWh          x                   42,00kWh =                   6   , 2  7    €  8,76 €\n",
      "P2:  0,002215€/kWh     +           0   , 0  7  5   7 02 €/kWh=         0   , 0  7  7  9   1  7   € /kWh          x                   32,00kWh =                   2   , 4  9    €\n",
      "Término de potencia\n",
      "Contratada Maxímetro Precio Peaje Precio Potencia Precio Total A Facturar Total\n",
      "Fenie Energía\n",
      "P1:  3,450kW  0,103944€/kW día         +              0    €/kW día=         0   , 1  0  3  9   4  4   € /kW día      x             3  , 4  5   0kWx  30días     =                                   1    0    , 7  6    €  10,76 €\n",
      "Energía reactiva\n",
      "Consumo Cos phi Precio Exceso Total\n",
      "P1:  0,00kVArh  1,00  0,000000€/kVArh x  0,00kVArh=                   0   , 0  0    €  0,00 €\n",
      "Impuesto electricidad 5,11269632% s/ 19,52 €  1,00 €\n",
      "Alquiler Equipo medida (Nº Contador 155242755):  0,80 €\n",
      "IVA 21,00% s/ 21,32 4,48 €\n",
      "TOTAL FACTURA:  25,80€\n",
      "Le informamos que la CNMC ha publicado, a través de la Circular 3/2020 del 25 de enero, que se van a modificar las tarifas eléctricas en los próximos meses. Durante este periodo transitorio y \n",
      "hasta que se publiquen los nuevos peajes, seguirán vigentes las tarifas actuales. Le iremos informando de cualquier novedad al respecto.\n",
      "Datos de Pago Atención al Cliente y Reclamaciones\n",
      "El  importe  de  la  presente  factura  le  será  adeudado  a  En horario comercial de su Agente Energético:\n",
      "partir del 04/06/2020 en: RAUL SAIZ RUIZ\n",
      "607786196\n",
      "Y las 24 horas en el 900 215 470 o clientes@fenieenergia.es\n",
      "Banco  0182 - 9465 - 63 - 0205XXXXXX\n",
      "Telf. Averías de la Distribuidora:   900 333 999\n",
      "Para  reclamaciones  sobre  el  contrato  de  suministro  o  facturaciones  podrá  dirigirse,  en  caso  de  tratarse  de  una \n",
      "persona  física,  al  Consejería  de  Dirección  General  de  Consumo  (órgano  competente  en  materia  de  consumo)  de  la \n",
      "Comunidad Autónoma de Madrid en el teléfono 010 o a través de su página web www.madrid.es\n",
      "Factura emitida en Madrid por Fenie Energía S.A., inscrita en el Registro Mercantil de Madrid Tomo 27.814, Folio 44, Hoja M-501244, CIF A-85908036\n",
      "Domicilio social: C/Jacinto Benavente, 2B Planta Baja (Edificio Tripark) 28232 Las Rozas (Madrid)\n",
      "Le informamos que sus datos son tratados por FENIE ENERGIA, S. A solo para gestiones contables, fiscales y administrativas y se encuentran almacenados en el fichero \"CLIENTES\" debidamente protegido e inscrito en el Registro de la AGPD. Dichos \n",
      "datos solo serán cedidos a entidades o Administraciones Públicas competentes, siempre que otras normativas así lo establezcan. Usted podrá ejercitar sus derechos ARCO enviándonos carta debidamente firmada junto con fotocopia de su DNI/NIF.\n"
     ]
    }
   ],
   "source": [
    "print(text)"
   ]
  },
  {
   "cell_type": "markdown",
   "metadata": {},
   "source": [
    "### Downloading the file from the given URL"
   ]
  },
  {
   "cell_type": "code",
   "execution_count": 2,
   "metadata": {},
   "outputs": [],
   "source": [
    "#def download_file(url):\n",
    "    #local_filename = url.split('/')[-1]\n",
    "    \n",
    "    #with requests.get(url) as r:\n",
    "        #with open(local_filename, 'wb') as f:\n",
    "            #f.write(r.content)\n",
    "            \n",
    "    #return local_filename        "
   ]
  },
  {
   "cell_type": "code",
   "execution_count": 3,
   "metadata": {},
   "outputs": [],
   "source": [
    "#document_url = 'https://storage.googleapis.com/glide-prod.appspot.com/uploads-v2/IEX87OO7Al4y6ZKmmJkG/pub/8uWiKKwBbsLiT1MHVgKk.pdf'"
   ]
  },
  {
   "cell_type": "code",
   "execution_count": 4,
   "metadata": {},
   "outputs": [],
   "source": [
    "#document = download_file(document_url)"
   ]
  },
  {
   "cell_type": "code",
   "execution_count": 5,
   "metadata": {},
   "outputs": [],
   "source": [
    "#with pdfplumber.open(document) as pdf:\n",
    "    #first_page = pdf.pages[0]\n",
    "    #text = first_page.extract_text()"
   ]
  },
  {
   "cell_type": "code",
   "execution_count": 60,
   "metadata": {},
   "outputs": [],
   "source": [
    "#print(text)"
   ]
  },
  {
   "cell_type": "markdown",
   "metadata": {},
   "source": [
    "### Los campos que nos interesaría volcar a nuestra base de datos serían:"
   ]
  },
  {
   "cell_type": "markdown",
   "metadata": {},
   "source": [
    "- Timestamp (fecha en la que el usuario sube la factura al sistema)\n",
    "- Nº factura\n",
    "- Proveedor\n",
    "- Fecha facturación\n",
    "- Periodo de facturación\n",
    "- Importe total"
   ]
  },
  {
   "cell_type": "markdown",
   "metadata": {},
   "source": [
    "### Rules for extract info"
   ]
  },
  {
   "cell_type": "code",
   "execution_count": 54,
   "metadata": {},
   "outputs": [],
   "source": [
    "# Fecha creación"
   ]
  },
  {
   "cell_type": "code",
   "execution_count": 30,
   "metadata": {},
   "outputs": [],
   "source": [
    "timestamp = datetime.date.today().strftime('%d-%m-%Y')\n",
    "timestamp_clean = re.sub('-','/',timestamp)"
   ]
  },
  {
   "cell_type": "code",
   "execution_count": 31,
   "metadata": {},
   "outputs": [
    {
     "name": "stdout",
     "output_type": "stream",
     "text": [
      "{'Timestamp': '03/10/2020'}\n"
     ]
    }
   ],
   "source": [
    "table_info = {'Timestamp': timestamp_clean}\n",
    "print(table_info)"
   ]
  },
  {
   "cell_type": "code",
   "execution_count": 32,
   "metadata": {},
   "outputs": [],
   "source": [
    "table_info['Timestamp'] = timestamp_clean"
   ]
  },
  {
   "cell_type": "code",
   "execution_count": 33,
   "metadata": {},
   "outputs": [],
   "source": [
    "# Número factura"
   ]
  },
  {
   "cell_type": "code",
   "execution_count": 34,
   "metadata": {},
   "outputs": [],
   "source": [
    "for row in text.split('\\n'):\n",
    "    if row.startswith('Factura Nº:'):\n",
    "        factura_n = row.split()[2:]\n",
    "        numero_factura = re.sub('\\D+','',str(factura_n))"
   ]
  },
  {
   "cell_type": "code",
   "execution_count": 35,
   "metadata": {},
   "outputs": [
    {
     "data": {
      "text/plain": [
       "'2020052506693'"
      ]
     },
     "execution_count": 35,
     "metadata": {},
     "output_type": "execute_result"
    }
   ],
   "source": [
    "numero_factura"
   ]
  },
  {
   "cell_type": "code",
   "execution_count": 36,
   "metadata": {},
   "outputs": [
    {
     "name": "stdout",
     "output_type": "stream",
     "text": [
      "{'Número factura': '2020052506693'}\n"
     ]
    }
   ],
   "source": [
    "table_info = {'Número factura': numero_factura}\n",
    "print(table_info)"
   ]
  },
  {
   "cell_type": "code",
   "execution_count": 37,
   "metadata": {},
   "outputs": [],
   "source": [
    "table_info['Número factura'] = numero_factura"
   ]
  },
  {
   "cell_type": "code",
   "execution_count": 38,
   "metadata": {},
   "outputs": [],
   "source": [
    "# Fecha facturación"
   ]
  },
  {
   "cell_type": "code",
   "execution_count": 39,
   "metadata": {},
   "outputs": [],
   "source": [
    "for row in text.split('\\n'):\n",
    "    if row.startswith('Fecha de Factura:'):\n",
    "        fecha = row.split()[3:]\n",
    "        fecha_clean = fecha[0]\n",
    "        fecha_facturacion = re.sub('\\W+','/',fecha_clean)"
   ]
  },
  {
   "cell_type": "code",
   "execution_count": 40,
   "metadata": {},
   "outputs": [
    {
     "data": {
      "text/plain": [
       "'25/05/2020'"
      ]
     },
     "execution_count": 40,
     "metadata": {},
     "output_type": "execute_result"
    }
   ],
   "source": [
    "fecha_facturacion"
   ]
  },
  {
   "cell_type": "code",
   "execution_count": 41,
   "metadata": {},
   "outputs": [
    {
     "name": "stdout",
     "output_type": "stream",
     "text": [
      "{'Fecha facturación': '25/05/2020'}\n"
     ]
    }
   ],
   "source": [
    "table_info = {'Fecha facturación': fecha_facturacion}\n",
    "print(table_info)"
   ]
  },
  {
   "cell_type": "code",
   "execution_count": 42,
   "metadata": {},
   "outputs": [],
   "source": [
    "table_info['Fecha facturación'] = fecha_facturacion"
   ]
  },
  {
   "cell_type": "code",
   "execution_count": 43,
   "metadata": {},
   "outputs": [],
   "source": [
    "# Periodo facturación"
   ]
  },
  {
   "cell_type": "code",
   "execution_count": 44,
   "metadata": {},
   "outputs": [],
   "source": [
    "for row in text.split('\\n'):\n",
    "    if row.startswith('Periodo Facturación:'):\n",
    "        periodo = row.split()[2:]\n",
    "        periodo_clean = \" \".join(map(str,periodo))\n",
    "        periodo_facturacion = ' '.join(periodo_clean.split(' ')[:-2])"
   ]
  },
  {
   "cell_type": "code",
   "execution_count": 45,
   "metadata": {},
   "outputs": [
    {
     "data": {
      "text/plain": [
       "'20/04/2020 - 20/05/2020'"
      ]
     },
     "execution_count": 45,
     "metadata": {},
     "output_type": "execute_result"
    }
   ],
   "source": [
    "periodo_facturacion"
   ]
  },
  {
   "cell_type": "code",
   "execution_count": 46,
   "metadata": {},
   "outputs": [],
   "source": [
    "table_info['Periodo de facturación'] = periodo_facturacion"
   ]
  },
  {
   "cell_type": "code",
   "execution_count": 47,
   "metadata": {},
   "outputs": [],
   "source": [
    "# Importe total"
   ]
  },
  {
   "cell_type": "code",
   "execution_count": 48,
   "metadata": {},
   "outputs": [],
   "source": [
    "for row in text.split('\\n'):\n",
    "    if row.startswith('TOTAL FACTURA'):\n",
    "        total_factura = row.split()[-1]"
   ]
  },
  {
   "cell_type": "code",
   "execution_count": 49,
   "metadata": {},
   "outputs": [],
   "source": [
    "table_info['Importe total'] = total_factura"
   ]
  },
  {
   "cell_type": "code",
   "execution_count": 53,
   "metadata": {},
   "outputs": [
    {
     "data": {
      "text/plain": [
       "{'Fecha facturación': '25/05/2020',\n",
       " 'Periodo de facturación': '20/04/2020 - 20/05/2020',\n",
       " 'Importe total': '25,80€'}"
      ]
     },
     "execution_count": 53,
     "metadata": {},
     "output_type": "execute_result"
    }
   ],
   "source": [
    "table_info"
   ]
  },
  {
   "cell_type": "markdown",
   "metadata": {},
   "source": [
    "### Converting all the fields into a pandas dataframe"
   ]
  },
  {
   "cell_type": "code",
   "execution_count": 207,
   "metadata": {},
   "outputs": [
    {
     "name": "stdout",
     "output_type": "stream",
     "text": [
      "                                              1\n",
      "Fecha facturación                    25/05/2020\n",
      "Periodo de facturación  20/04/2020 - 20/05/2020\n",
      "Importe total                            25,80€\n"
     ]
    }
   ],
   "source": [
    "table_info\n",
    "\n",
    "df = pd.DataFrame(table_info, index=[1]).T\n",
    "\n",
    "print(df)"
   ]
  },
  {
   "cell_type": "markdown",
   "metadata": {},
   "source": [
    "### Send information back to Google Drive file"
   ]
  },
  {
   "cell_type": "code",
   "execution_count": null,
   "metadata": {},
   "outputs": [],
   "source": []
  }
 ],
 "metadata": {
  "kernelspec": {
   "display_name": "Python [conda env:ironhack_env] *",
   "language": "python",
   "name": "conda-env-ironhack_env-py"
  },
  "language_info": {
   "codemirror_mode": {
    "name": "ipython",
    "version": 3
   },
   "file_extension": ".py",
   "mimetype": "text/x-python",
   "name": "python",
   "nbconvert_exporter": "python",
   "pygments_lexer": "ipython3",
   "version": "3.7.6"
  }
 },
 "nbformat": 4,
 "nbformat_minor": 4
}
